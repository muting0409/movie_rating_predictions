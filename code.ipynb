{
 "cells": [
  {
   "cell_type": "code",
   "execution_count": 88,
   "metadata": {},
   "outputs": [],
   "source": [
    "import pyspark\n",
    "import csv\n",
    "import math\n",
    "import pandas as pd\n",
    "import numpy as np\n",
    "from pyspark import SparkContext as sc\n",
    "from pyspark import SparkConf\n",
    "conf = SparkConf().setAppName(\"Term_Project_Group57\").setMaster(\"local[*]\")\n",
    "sc = SparkContext.getOrCreate(conf)\n",
    "conf = SparkConf().set(\"spark.default.parallelism\", 4).set('spark.driver.memory', '45G').set('spark.driver.maxResultSize', '10G')"
   ]
  },
  {
   "cell_type": "code",
   "execution_count": 89,
   "metadata": {},
   "outputs": [],
   "source": [
    "num_movie = 0\n",
    "num_user = 610\n",
    "data = []\n",
    "movie = []\n",
    "movie_list = {}\n",
    "check_movie_id = []\n",
    "cos = []\n",
    "movie_dict = {} \n",
    "sim_dict = {}"
   ]
  },
  {
   "cell_type": "code",
   "execution_count": 90,
   "metadata": {},
   "outputs": [],
   "source": [
    "def Preprocess() :\n",
    "    global data, num_movie, check_movie_id\n",
    "    data = pd.read_csv(\"ratings.csv\", encoding=\"utf-8\", names = [\"User\", \"Movie\", \"Rating\"])\n",
    "    check_movie_id = sorted(list(set(data['Movie'].tolist())))\n",
    "    num_movie = len(check_movie_id)\n",
    "    for value in range(num_movie):\n",
    "        movie_list.update({check_movie_id[value] :value})\n",
    "    l = []\n",
    "    with open( \"ratings.csv\", encoding=\"utf-8\", newline = '' ) as file : # read file\n",
    "        rows = csv.reader(file)\n",
    "        for row in rows :\n",
    "            l.append(row)\n",
    "    pdata = sc.parallelize(l)\n",
    "    return pdata"
   ]
  },
  {
   "cell_type": "code",
   "execution_count": 91,
   "metadata": {},
   "outputs": [],
   "source": [
    "def change1(plist):\n",
    "    plist = list(map(float, plist))\n",
    "    # ((user, (movie, point))\n",
    "    res = [int(plist[0]), [[int(plist[1]), plist[2]]]]      \n",
    "    return res "
   ]
  },
  {
   "cell_type": "code",
   "execution_count": 92,
   "metadata": {},
   "outputs": [],
   "source": [
    "def change2(plist):\n",
    "    plist = list(map(float, plist))\n",
    "    # ((movie, (user, point))\n",
    "    res = [int(plist[1]), [[int(plist[0]), plist[2]]]]      \n",
    "    return res"
   ]
  },
  {
   "cell_type": "code",
   "execution_count": 93,
   "metadata": {},
   "outputs": [],
   "source": [
    "def update_list1(plist) :\n",
    "    # for about 9700 movies\n",
    "    res_list = num_movie * [0]\n",
    "    for movie_id, point in plist :\n",
    "        idx = int(movie_id)\n",
    "        res_list[movie_list[idx]] = point\n",
    "    return tuple(res_list)"
   ]
  },
  {
   "cell_type": "code",
   "execution_count": 94,
   "metadata": {},
   "outputs": [],
   "source": [
    "def update_list2(plist) :\n",
    "    res_list = num_user * [0]\n",
    "    for user_id, point in plist :\n",
    "        idx = int(user_id)\n",
    "        res_list[idx-1] = point\n",
    "    return res_list"
   ]
  },
  {
   "cell_type": "code",
   "execution_count": 95,
   "metadata": {},
   "outputs": [],
   "source": [
    "def Cal(plist) :\n",
    "    count = 0\n",
    "    for i in range(len(plist)) :\n",
    "        if plist[i] != 0 :\n",
    "            count += 1\n",
    "    s = sum(plist) / count\n",
    "    l = list(plist)\n",
    "    for i in range(len(l)) :\n",
    "        if l[i] != 0 :\n",
    "            tmp = l[i] - s\n",
    "            if tmp == 0 :\n",
    "                l[i] = l[i] - s + 0.3\n",
    "            else :\n",
    "                l[i] = tmp\n",
    "    temp = num_user * [0]\n",
    "    num = 0\n",
    "    for i in range(len(l)) :\n",
    "        num = num + (l[i]*l[i])\n",
    "    num = math.sqrt(num)\n",
    "    return [num,l]"
   ]
  },
  {
   "cell_type": "code",
   "execution_count": 96,
   "metadata": {},
   "outputs": [],
   "source": [
    "def Cos(plist) :\n",
    "    u1 = plist[0][0]\n",
    "    u2 = plist[0][1]\n",
    "    if u1 != u2 :\n",
    "        x = np.array(plist[1][1])\n",
    "        y = np.array(plist[2][1])\n",
    "        dot = np.dot(x, y)\n",
    "        len1 = plist[1][0]\n",
    "        len2 = plist[2][0]\n",
    "        temp = len1 * len2\n",
    "        sim = dot / temp\n",
    "        if sim == 0 :\n",
    "            sim += 0.1\n",
    "        return ( u1, [[ u2, sim ]] )\n",
    "    else :\n",
    "        return ( u1, [[ u2, 1 ]])"
   ]
  },
  {
   "cell_type": "code",
   "execution_count": 97,
   "metadata": {},
   "outputs": [],
   "source": [
    "def Cosine(plist) :\n",
    "    global cos, movie_dict, sim_dict\n",
    "    pdata = plist\n",
    "    \n",
    "    # [ ( user1, point1 ), ( user2, point2 ) ... ]\n",
    "    plist = plist.map(change1).reduceByKey( lambda x, y : x + y ).mapValues(update_list1)\n",
    "    \n",
    "    # dictionary of user's point  ex : { user1 : 2 5 3 0, user2 : 3 0 2 5 ... }\n",
    "    pmovie = pdata.map(change2).reduceByKey( lambda x, y : x + y ).mapValues(update_list2)\n",
    "    \n",
    "    # 計算每個user評分之length、計算每個評分扣掉mean ( 避免之後會divide zero狀況，所以算到0的話會一常數，本例是+0.3 )\n",
    "    prate = plist.mapValues(Cal)\n",
    "    \n",
    "    # ( ( user1, user2 ), ( len1, ( point1 ) , len2, ( point2 ) ) ) 做user彼此之卡氏積\n",
    "    pcar = prate.cartesian(prate).map(lambda x: (tuple((x[0][0], x[1][0])), x[0][1], x[1][1]))\n",
    "    \n",
    "    # ( user1, ( ( user2, sim(1,2) ) , ( user3, sim(1,3) ) ... ) ) (算出彼此之sim，如果sim是0一樣加常數 (+0.1))\n",
    "    cos = pcar.map(Cos).reduceByKey(lambda a, b : a + b)\n",
    "\n",
    "    movie_dict = pmovie.collectAsMap() \n",
    "    sim_dict = cos.collectAsMap()\n",
    "    return plist"
   ]
  },
  {
   "cell_type": "code",
   "execution_count": 98,
   "metadata": {},
   "outputs": [],
   "source": [
    "def Recommendation(plist) :\n",
    "    user = plist[0]\n",
    "    l = plist[1] # 原本user評分的list\n",
    "    res = []\n",
    "    for i in range(len(l)) :\n",
    "        rate = l[i] \n",
    "        if rate == 0 :\n",
    "            s = 0\n",
    "            total_sim = 0\n",
    "            point = movie_dict[check_movie_id[i]] #電影對所有user評分之狀況\n",
    "            for j in range(len(point)) :\n",
    "                sim = sim_dict[user] # user之間的sim\n",
    "                s = s + ( point[j] * sim[j][1] )\n",
    "                if point[j] != 0 : # 有其他user評過分才要加上他們的sim\n",
    "                    total_sim = total_sim + sim[j][1]\n",
    "            temp = s / total_sim\n",
    "            tup = ( user, check_movie_id[i], temp )\n",
    "            res.append(tup)\n",
    "    return res"
   ]
  },
  {
   "cell_type": "code",
   "execution_count": 99,
   "metadata": {},
   "outputs": [],
   "source": [
    "def Recommend(plist) :\n",
    "    l = []\n",
    "    res = plist.map(Recommendation)\n",
    "    ans = res.collect()\n",
    "    for i in ans :\n",
    "        temp = sorted(i, key = lambda x : x[2])\n",
    "        l.append(temp[-1])\n",
    "    return l"
   ]
  },
  {
   "cell_type": "code",
   "execution_count": 100,
   "metadata": {},
   "outputs": [],
   "source": [
    "def writefile(ans) :\n",
    "    with open(\"final_output.txt\", 'w') as file :\n",
    "        for i in ans :\n",
    "            User = i[0]\n",
    "            movie = i[1]\n",
    "            msg = 'Recommend User {} : Movie {}'.format(User, movie)\n",
    "            file.writelines( msg + \"\\n\" )"
   ]
  },
  {
   "cell_type": "code",
   "execution_count": null,
   "metadata": {
    "scrolled": true
   },
   "outputs": [],
   "source": [
    "pdata = Preprocess()\n",
    "puser = Cosine(pdata)\n",
    "ans = Recommend(puser)\n",
    "res = sorted( ans, key = lambda x : x[0] )\n",
    "writefile(res)"
   ]
  },
  {
   "cell_type": "code",
   "execution_count": 86,
   "metadata": {},
   "outputs": [],
   "source": [
    "sc.stop()"
   ]
  }
 ],
 "metadata": {
  "kernelspec": {
   "display_name": "Python 3",
   "language": "python",
   "name": "python3"
  },
  "language_info": {
   "codemirror_mode": {
    "name": "ipython",
    "version": 3
   },
   "file_extension": ".py",
   "mimetype": "text/x-python",
   "name": "python",
   "nbconvert_exporter": "python",
   "pygments_lexer": "ipython3",
   "version": "3.6.8"
  }
 },
 "nbformat": 4,
 "nbformat_minor": 4
}
